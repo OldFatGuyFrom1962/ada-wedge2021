{
 "cells": [
  {
   "cell_type": "markdown",
   "metadata": {},
   "source": [
    "## Make the connection to the appropriate data in Google Big Query"
   ]
  },
  {
   "cell_type": "code",
   "execution_count": 1,
   "metadata": {},
   "outputs": [],
   "source": [
    "from google.cloud import bigquery\n",
    "from google.oauth2 import service_account\n",
    "import random"
   ]
  },
  {
   "cell_type": "code",
   "execution_count": 2,
   "metadata": {},
   "outputs": [],
   "source": [
    "service_path = \"C:\\\\Users\\\\Craig\\\\Documents\\\\000000000 UofM fall 2021\\\\BMIS670 Chandler AppliedDataAnalytics\\\\Wedge project\\\\\"\n",
    "# THE PATH TO THE DATA READY FOR ANALYSIS\n",
    "service_file = 'wedge-project-fall2021-92691-f3182a53adb6.json' # this is my authentication information  \n",
    "gbq_proj_id = 'wedge-project-fall2021-92691'  # this is my project_id\n",
    "gbq_dataset_id = 'Wedge_FULL'"
   ]
  },
  {
   "cell_type": "code",
   "execution_count": 3,
   "metadata": {},
   "outputs": [],
   "source": [
    "# Get my credentials\n",
    "credentials = service_account.Credentials.from_service_account_file(service_path + service_file)\n",
    "\n",
    "# Creating a client to talk to GBQ\n",
    "client = bigquery.Client(credentials = credentials, project=gbq_proj_id)"
   ]
  },
  {
   "cell_type": "markdown",
   "metadata": {},
   "source": [
    "## Create queries to access owner identified information except for large owner 00003.0"
   ]
  },
  {
   "cell_type": "code",
   "execution_count": 4,
   "metadata": {},
   "outputs": [],
   "source": [
    "query = '''SELECT DISTINCT(card_no) FROM `wedge-project-fall2021-92691.Wedge_FULL.transArchive*`\n",
    "WHERE card_no!=3.0'''  # establishes a query to pull owners via their heading 'card_no'"
   ]
  },
  {
   "cell_type": "code",
   "execution_count": 5,
   "metadata": {},
   "outputs": [],
   "source": [
    "owners = client.query(query,location=\"US\")"
   ]
  },
  {
   "cell_type": "code",
   "execution_count": 6,
   "metadata": {},
   "outputs": [],
   "source": [
    "owner_list = []\n",
    "for owner in owners:\n",
    "    owner_list.append(owner[0])  # searches through all data sets to create a DISTINCT list of all owners \n",
    "    #putting them into object 'owner_list'"
   ]
  },
  {
   "cell_type": "code",
   "execution_count": 7,
   "metadata": {},
   "outputs": [
    {
     "data": {
      "text/plain": [
       "27207"
      ]
     },
     "execution_count": 7,
     "metadata": {},
     "output_type": "execute_result"
    }
   ],
   "source": [
    "len(owner_list)  # identifies the total population count of different owners in the Wedge data"
   ]
  },
  {
   "cell_type": "code",
   "execution_count": 8,
   "metadata": {},
   "outputs": [],
   "source": [
    "owner_sample = random.sample(owner_list,400)\n",
    "# create a random sample of specified size of owners for further analysis"
   ]
  },
  {
   "cell_type": "code",
   "execution_count": 9,
   "metadata": {},
   "outputs": [],
   "source": [
    "owner_trans = '''SELECT * FROM `wedge-project-fall2021-92691.Wedge_FULL.transArchive*`\n",
    "WHERE card_no IN ('''"
   ]
  },
  {
   "cell_type": "code",
   "execution_count": 10,
   "metadata": {},
   "outputs": [],
   "source": [
    "for owner in owner_sample:\n",
    "    owner_trans += str(owner)+','\n",
    "# building a list, so separately delimit with a comma until you've ran through the sampling process\n",
    "# assigning results to list object 'owner_trans'"
   ]
  },
  {
   "cell_type": "code",
   "execution_count": 11,
   "metadata": {},
   "outputs": [],
   "source": [
    "owner_trans = owner_trans[:-1]+')' # conclude sample list by removing final comma and adding closing parenthesis"
   ]
  },
  {
   "cell_type": "code",
   "execution_count": 12,
   "metadata": {},
   "outputs": [],
   "source": [
    "random_trans = client.query(owner_trans,location=\"US\") # process random sample in GBQ, where records are assigned to\n",
    "# object 'random_trans' but only for those whose card_no resides in the owner_trans list"
   ]
  },
  {
   "cell_type": "code",
   "execution_count": 13,
   "metadata": {},
   "outputs": [
    {
     "name": "stdout",
     "output_type": "stream",
     "text": [
      "2013-01-04 20:50:54+00:00\t7.0\t33.0\t41.0\t0\tChange\tT\tCA\t \t0.0\t0.0\t0.0\t0.0\t0.0\t0.0\t0.0\t0.0\t0.0\t0.0\t0.0\t0.0\t0.0\t0.0\t0.0\t0.0\t8.0\tNone\t0.0\t0.0\t0.0\t0.0\t0.0\t0.0\tNone\tNone\t0.0\t0.0\t0.0\tNone\t0.0\tNone\t0.0\tNone\tNone\t0.0\t14187.0\t1.0\t0.0\t0.0\t47.0\n",
      "16.698439200000003\n"
     ]
    }
   ],
   "source": [
    "from timeit import default_timer as timer # to establish access to 'process timer'\n",
    "start = timer()  # begin timer for this code block (will return #seconds elapsed)\n",
    "\n",
    "for trans in random_trans:\n",
    "    print('\\t'.join([str(x) for x in trans]))\n",
    "    break\n",
    "# takes first record that matches a sampled owner and puts it into a tab-delimited string\n",
    "\n",
    "end = timer() # stops the code-block timer process after all iterations of all loops\n",
    "print(end - start)  # displays total seconds elapsed in this code block process"
   ]
  },
  {
   "cell_type": "code",
   "execution_count": 14,
   "metadata": {},
   "outputs": [
    {
     "data": {
      "text/plain": [
       "Row((datetime.datetime(2013, 1, 4, 20, 50, 54, tzinfo=<UTC>), 7.0, 33.0, 41.0, '0', 'Change', 'T', 'CA', ' ', 0.0, 0.0, 0.0, 0.0, 0.0, 0.0, 0.0, 0.0, 0.0, 0.0, 0.0, 0.0, 0.0, 0.0, 0.0, 0.0, 8.0, None, 0.0, 0.0, 0.0, 0.0, 0.0, 0.0, None, None, 0.0, 0.0, 0.0, None, 0.0, None, 0.0, None, None, 0.0, 14187.0, 1.0, 0.0, 0.0, 47.0), {'datetime': 0, 'register_no': 1, 'emp_no': 2, 'trans_no': 3, 'upc': 4, 'description': 5, 'trans_type': 6, 'trans_subtype': 7, 'trans_status': 8, 'department': 9, 'quantity': 10, 'Scale': 11, 'cost': 12, 'unitPrice': 13, 'total': 14, 'regPrice': 15, 'altPrice': 16, 'tax': 17, 'taxexempt': 18, 'foodstamp': 19, 'wicable': 20, 'discount': 21, 'memDiscount': 22, 'discountable': 23, 'discounttype': 24, 'voided': 25, 'percentDiscount': 26, 'ItemQtty': 27, 'volDiscType': 28, 'volume': 29, 'VolSpecial': 30, 'mixMatch': 31, 'matched': 32, 'memType': 33, 'staff': 34, 'numflag': 35, 'itemstatus': 36, 'tenderstatus': 37, 'charflag': 38, 'varflag': 39, 'batchHeaderID': 40, 'local': 41, 'organic': 42, 'display': 43, 'receipt': 44, 'card_no': 45, 'store': 46, 'branch': 47, 'match_id': 48, 'trans_id': 49})"
      ]
     },
     "execution_count": 14,
     "metadata": {},
     "output_type": "execute_result"
    }
   ],
   "source": [
    "list(random_trans)[0]  # reflects the first transaction in a list that is comma delimited"
   ]
  },
  {
   "cell_type": "code",
   "execution_count": 15,
   "metadata": {},
   "outputs": [
    {
     "data": {
      "text/plain": [
       "921316"
      ]
     },
     "execution_count": 15,
     "metadata": {},
     "output_type": "execute_result"
    }
   ],
   "source": [
    "len(list(random_trans))   #identifies the total number of transactions associated with the sampled owners"
   ]
  },
  {
   "cell_type": "markdown",
   "metadata": {},
   "source": [
    "## Write the output of the transaction query to a local file"
   ]
  },
  {
   "cell_type": "code",
   "execution_count": 16,
   "metadata": {},
   "outputs": [],
   "source": [
    "headers = [\"datetime\",\"register_no\",\"emp_no\",\"trans_no\",\"upc\",\"description\",\"trans_type\",\n",
    "           \"trans_subtype\",\"trans_status\",\"department\",\"quantity\",\"Scale\",\"cost\",\"unitPrice\",\n",
    "           \"total\",\"regPrice\",\"altPrice\",\"tax\",\"taxexempt\",\"foodstamp\",\"wicable\",\"discount\",\n",
    "           \"memDiscount\",\"discountable\",\"discounttype\",\"voided\",\"percentDiscount\",\"ItemQtty\",\n",
    "           \"volDiscType\",\"volume\",\"VolSpecial\",\"mixMatch\",\"matched\",\"memType\",\"staff\",\"numflag\",\n",
    "           \"itemstatus\",\"tenderstatus\",\"charflag\",\"varflag\",\"batchHeaderID\",\"local\",\"organic\",\n",
    "           \"display\",\"receipt\",\"card_no\",\"store\",\"branch\",\"match_id\",\"trans_id\"]\n",
    "# pulls in the headers"
   ]
  },
  {
   "cell_type": "code",
   "execution_count": 17,
   "metadata": {},
   "outputs": [
    {
     "name": "stdout",
     "output_type": "stream",
     "text": [
      "283.82671159999995\n"
     ]
    }
   ],
   "source": [
    "from timeit import default_timer as timer # to establish access to 'process timer'\n",
    "start = timer()  # begin timer for this code block (will return #seconds elapsed)\n",
    "\n",
    "with open(\"sample_owner_trans.txt\", 'w') as outfile:\n",
    "    outfile.write(\",\".join(headers) + \"\\n\")\n",
    "    for row in random_trans:\n",
    "         outfile.write(\",\".join([str(item) for item in row])+ '\\n')\n",
    "            \n",
    "end = timer() # stops the code-block timer process after all iterations of all loops\n",
    "print(end - start)  # displays total seconds elapsed in this code block process                    "
   ]
  },
  {
   "cell_type": "code",
   "execution_count": null,
   "metadata": {},
   "outputs": [],
   "source": []
  },
  {
   "cell_type": "code",
   "execution_count": null,
   "metadata": {},
   "outputs": [],
   "source": []
  }
 ],
 "metadata": {
  "kernelspec": {
   "display_name": "Python 3",
   "language": "python",
   "name": "python3"
  },
  "language_info": {
   "codemirror_mode": {
    "name": "ipython",
    "version": 3
   },
   "file_extension": ".py",
   "mimetype": "text/x-python",
   "name": "python",
   "nbconvert_exporter": "python",
   "pygments_lexer": "ipython3",
   "version": "3.7.3"
  }
 },
 "nbformat": 4,
 "nbformat_minor": 4
}
