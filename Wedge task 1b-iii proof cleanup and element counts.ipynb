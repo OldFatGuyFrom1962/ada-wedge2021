{
 "cells": [
  {
   "cell_type": "markdown",
   "metadata": {},
   "source": [
    "# This is a test of ALL of the zip files having at least one record with other than 50 elements and where we our concatenation of 3 elements into 1 are specific to a file and a record-index - passes!"
   ]
  },
  {
   "cell_type": "code",
   "execution_count": 1,
   "metadata": {},
   "outputs": [],
   "source": [
    "import os"
   ]
  },
  {
   "cell_type": "code",
   "execution_count": 2,
   "metadata": {},
   "outputs": [],
   "source": [
    "zip_files = os.listdir(\"DATA/\")"
   ]
  },
  {
   "cell_type": "code",
   "execution_count": 3,
   "metadata": {},
   "outputs": [],
   "source": [
    "from zipfile import ZipFile"
   ]
  },
  {
   "cell_type": "code",
   "execution_count": 4,
   "metadata": {},
   "outputs": [],
   "source": [
    "import csv"
   ]
  },
  {
   "cell_type": "code",
   "execution_count": 5,
   "metadata": {},
   "outputs": [
    {
     "name": "stdout",
     "output_type": "stream",
     "text": [
      "['Fruit - Granola - and Yogurt']\n"
     ]
    }
   ],
   "source": [
    "my_list=[\"Fruit\",\" Granola\",\" and Yogurt\"]\n",
    "\n",
    "concenated_string=\"\"\n",
    "for string in range(len(my_list)):\n",
    "    if string == len(my_list)-1:\n",
    "        concenated_string+=my_list[string]\n",
    "    else:\n",
    "        concenated_string+=f'{my_list[string]} -'\n",
    "print([concenated_string])"
   ]
  },
  {
   "cell_type": "code",
   "execution_count": 6,
   "metadata": {},
   "outputs": [
    {
     "name": "stdout",
     "output_type": "stream",
     "text": [
      "transArchive_201207_201209.csv\n",
      "transArchive_201301_201303.csv\n",
      "transArchive_201304_201306.csv\n",
      "transArchive_201307_201309.csv\n",
      "transArchive_201310_201312.csv\n",
      "transArchive_201401_201403.csv\n",
      "transArchive_201404_201406.csv\n",
      "transArchive_201407_201409.csv\n",
      "3015.2225934999997\n"
     ]
    }
   ],
   "source": [
    "from timeit import default_timer as timer\n",
    "start = timer()\n",
    "\n",
    "# OPTION:  1:42:40m - cheesy approach\n",
    "for zip_file in zip_files :\n",
    "    \n",
    "    with ZipFile(\"DATA/\" + zip_file, 'r') as my_zip_file :\n",
    "    \n",
    "        files_inside = my_zip_file.namelist()\n",
    "        for zipped_file in files_inside :\n",
    "            sniffer = csv.Sniffer()\n",
    "            \n",
    "            print(zipped_file)\n",
    "            \n",
    "            with my_zip_file.open(zipped_file, 'r') as input_file :\n",
    "                for idx, line in enumerate(input_file) :\n",
    "                    \n",
    "                    file_has_header = False\n",
    "                    \n",
    "                    dialect = sniffer.sniff(line.decode(\"utf-8\"))\n",
    "                    line = line.decode(\"utf-8\").strip().split(dialect.delimiter)\n",
    "                    line = [piece.replace('\"','') for piece in line]\n",
    "# Craig's new line...                    \n",
    "                    line = [Null.replace('NULL','') for Null in line]\n",
    "# 201511 has \"\\\\N\"\n",
    "                    line = [DblBk_N.replace('\\\\N','') for DblBk_N in line]\n",
    "\n",
    "                    if zipped_file == ('transArchive_201207_201209.csv') :            \n",
    "                        if 326345 == idx :\n",
    "                            line[5:8] = [' -'.join(line[5:8])]\n",
    "                        \n",
    "                    if zipped_file == ('transArchive_201301_201303.csv') :            \n",
    "                        if 1327813 == idx :\n",
    "                            line[5:8] = [' -'.join(line[5:8])]\n",
    "                            \n",
    "                    if zipped_file == ('transArchive_201304_201306.csv') :            \n",
    "                        if 255261 == idx :\n",
    "                            line[5:8] = [' -'.join(line[5:8])]\n",
    "                            \n",
    "                    if zipped_file == ('transArchive_201304_201306.csv') :            \n",
    "                        if 255487 == idx :\n",
    "                            line[5:8] = [' -'.join(line[5:8])]\n",
    "                            \n",
    "                    if zipped_file == ('transArchive_201307_201309.csv') :            \n",
    "                        if 913669 == idx :\n",
    "                            line[5:8] = [' -'.join(line[5:8])]\n",
    "                            \n",
    "                    if zipped_file == ('transArchive_201307_201309.csv') :            \n",
    "                        if 2151692 == idx :\n",
    "                            line[5:8] = [' -'.join(line[5:8])]\n",
    "                            \n",
    "                    if zipped_file == ('transArchive_201310_201312.csv') :            \n",
    "                        if 1239520 == idx :\n",
    "                            line[5:8] = [' -'.join(line[5:8])]\n",
    "                            \n",
    "                    if zipped_file == ('transArchive_201401_201403.csv') :            \n",
    "                        if 392934 == idx :\n",
    "                            line[5:8] = [' -'.join(line[5:8])]\n",
    "                            \n",
    "                    if zipped_file == ('transArchive_201401_201403.csv') :            \n",
    "                        if 2402865 == idx :\n",
    "                            line[5:8] = [' -'.join(line[5:8])]\n",
    "                            \n",
    "                    if zipped_file == ('transArchive_201404_201406.csv') :            \n",
    "                        if 2461306 == idx :\n",
    "                            line[5:8] = [' -'.join(line[5:8])]\n",
    "                            \n",
    "                    if zipped_file == ('transArchive_201407_201409.csv') :            \n",
    "                        if 41527 == idx :\n",
    "                            line[5:8] = [' -'.join(line[5:8])]                            \n",
    "                            \n",
    "                    if idx == 0 :\n",
    "                        if 'datetime' in line[0] :\n",
    "                            file_has_header = True\n",
    "                    if file_has_header and idx == 0 :\n",
    "                        pass\n",
    "                    else :\n",
    "                        number = len(line)\n",
    "                        if number != 50 :\n",
    "                            print(number)\n",
    "                            print(idx)\n",
    "                            print(line)\n",
    "\n",
    "end = timer()\n",
    "print(end - start)"
   ]
  },
  {
   "cell_type": "code",
   "execution_count": null,
   "metadata": {},
   "outputs": [],
   "source": []
  }
 ],
 "metadata": {
  "kernelspec": {
   "display_name": "Python 3",
   "language": "python",
   "name": "python3"
  },
  "language_info": {
   "codemirror_mode": {
    "name": "ipython",
    "version": 3
   },
   "file_extension": ".py",
   "mimetype": "text/x-python",
   "name": "python",
   "nbconvert_exporter": "python",
   "pygments_lexer": "ipython3",
   "version": "3.7.3"
  }
 },
 "nbformat": 4,
 "nbformat_minor": 4
}
