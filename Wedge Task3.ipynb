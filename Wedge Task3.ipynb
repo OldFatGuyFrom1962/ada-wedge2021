{
 "cells": [
  {
   "cell_type": "markdown",
   "metadata": {},
   "source": [
    "## Make the connection to the appropriate data in Google Big Query"
   ]
  },
  {
   "cell_type": "code",
   "execution_count": 1,
   "metadata": {},
   "outputs": [],
   "source": [
    "from google.cloud import bigquery\n",
    "from google.oauth2 import service_account\n",
    "import random\n",
    "import sqlite3"
   ]
  },
  {
   "cell_type": "code",
   "execution_count": 2,
   "metadata": {},
   "outputs": [],
   "source": [
    "service_path = \"C:\\\\Users\\\\Craig\\\\Documents\\\\000000000 UofM fall 2021\\\\BMIS670 Chandler AppliedDataAnalytics\\\\Wedge project\\\\\"\n",
    "# THE PATH TO THE DATA READY FOR ANALYSIS\n",
    "service_file = 'wedge-project-fall2021-92691-f3182a53adb6.json' # this is my authentication information  \n",
    "gbq_proj_id = 'wedge-project-fall2021-92691'  # this is my project_id\n",
    "gbq_dataset_id = 'Wedge_FULL'"
   ]
  },
  {
   "cell_type": "code",
   "execution_count": 3,
   "metadata": {},
   "outputs": [],
   "source": [
    "# Get my credentials\n",
    "credentials = service_account.Credentials.from_service_account_file(service_path + service_file)\n",
    "\n",
    "# Creating a client to talk to GBQ\n",
    "client = bigquery.Client(credentials = credentials, project=gbq_proj_id)"
   ]
  },
  {
   "cell_type": "markdown",
   "metadata": {},
   "source": [
    "## Query 1"
   ]
  },
  {
   "cell_type": "markdown",
   "metadata": {},
   "source": [
    "1.\tSales by date by hour: By calendar date (YYYY-MM-DD) and hour of the day, determine the total spend in the store, the number of transactions, and a count of the number of items"
   ]
  },
  {
   "cell_type": "code",
   "execution_count": 4,
   "metadata": {},
   "outputs": [],
   "source": [
    "task3_nbr1 = '''SELECT (EXTRACT(date FROM datetime)) AS Date,\n",
    "    (EXTRACT(HOUR FROM datetime)) AS Hour,\n",
    "    SUM(total) as Sales,\n",
    "    COUNT(DISTINCT(Date(datetime) || register_no || emp_no || trans_no)) AS Transactions,\n",
    "    SUM(CASE WHEN(trans_status = 'V' OR trans_status = 'R') THEN -1 ELSE 1 END) as Items\n",
    "    FROM `wedge-project-fall2021-92691.Wedge_FULL.transArchive*`\n",
    "    \n",
    "    WHERE card_no != 3\n",
    "    AND department != 0\n",
    "    AND department != 15\n",
    "    AND trans_status != 'M'\n",
    "    AND trans_status != 'C'\n",
    "    AND trans_status != 'J'\n",
    "    AND (trans_status = ''\n",
    "    OR trans_status = ' '\n",
    "    OR trans_status = 'V'\n",
    "    OR trans_status = 'R')\n",
    "    GROUP BY Date, Hour\n",
    "    ORDER BY Date, Hour'''\n",
    "date_hour_transactions = client.query(task3_nbr1,location=\"US\")"
   ]
  },
  {
   "cell_type": "markdown",
   "metadata": {},
   "source": [
    "### set up headers"
   ]
  },
  {
   "cell_type": "code",
   "execution_count": 5,
   "metadata": {},
   "outputs": [],
   "source": [
    "headers = [\"Date\",\"Hour\",\"Sales\",\"Transactions\",\"Items\"]"
   ]
  },
  {
   "cell_type": "markdown",
   "metadata": {},
   "source": [
    "### Create text file of query results"
   ]
  },
  {
   "cell_type": "code",
   "execution_count": 6,
   "metadata": {},
   "outputs": [
    {
     "name": "stdout",
     "output_type": "stream",
     "text": [
      "10.758096600000002\n"
     ]
    }
   ],
   "source": [
    "from timeit import default_timer as timer # to establish access to 'process timer'\n",
    "start = timer()  # begin timer for this code block (will return #seconds elapsed)\n",
    "\n",
    "with open(\"daily_hourly_transactions.txt\", 'w') as outfile:\n",
    "    outfile.write(\",\".join(headers) + \"\\n\")\n",
    "    for row in date_hour_transactions:\n",
    "         outfile.write(\",\".join([str(item) for item in row])+ '\\n')\n",
    "            \n",
    "end = timer() # stops the code-block timer process after all iterations of all loops\n",
    "print(end - start)  # displays total seconds elapsed in this code block process            "
   ]
  },
  {
   "cell_type": "markdown",
   "metadata": {},
   "source": [
    "### Write to a table in SQLite"
   ]
  },
  {
   "cell_type": "code",
   "execution_count": 7,
   "metadata": {},
   "outputs": [
    {
     "name": "stdout",
     "output_type": "stream",
     "text": [
      "0.17895629999999585\n"
     ]
    }
   ],
   "source": [
    "from timeit import default_timer as timer # to establish access to 'process timer'\n",
    "start = timer()  # begin timer for this code block (will return #seconds elapsed)\n",
    "\n",
    "db = sqlite3.connect('Wedge_Task3.db') # connect to the new database\n",
    "c = db.cursor()\n",
    "\n",
    "# input the results of the first query into the WedgeTask3 database as the table Daily_Hourly_Sales\n",
    "input_file1 = \"daily_hourly_transactions.txt\"\n",
    "\n",
    "c.execute('''DROP TABLE IF EXISTS Daily_Hourly_Sales''') # remove the table if it already exists\n",
    "# create the table in the connected database and set up the schema\n",
    "c.execute('''CREATE TABLE Daily_Hourly_Sales (\n",
    "    Date TIMESTAMP,\n",
    "    Hour TIMESTAMP,\n",
    "    Sales REAL,\n",
    "    Transactions INTEGER,\n",
    "    Items INTEGER)''')\n",
    "# input the Sales by Date by Hour text data into the established table in the database\n",
    "with open(input_file1, 'r', encoding = 'Latin-1') as infile:\n",
    "    for idx,line in enumerate(infile.readlines()):\n",
    "        line = line.strip().split(',')\n",
    "        c.execute('''\n",
    "        INSERT INTO Daily_Hourly_Sales (Date, Hour, Sales, Transactions, Items)\n",
    "        VALUES (?,?,?,?,?)''', line) #make sure that the ? match up with the column labels for value insertion\n",
    "db.commit()\n",
    "\n",
    "end = timer() # stops the code-block timer process after all iterations of all loops\n",
    "print(end - start)  # displays total seconds elapsed in this code block process"
   ]
  },
  {
   "cell_type": "markdown",
   "metadata": {},
   "source": [
    "## Query 2"
   ]
  },
  {
   "cell_type": "markdown",
   "metadata": {},
   "source": [
    "2.\tSales by owner by year by month: A file that has the following columns: card_no, year, month, sales, transactions, and items. "
   ]
  },
  {
   "cell_type": "code",
   "execution_count": 8,
   "metadata": {},
   "outputs": [],
   "source": [
    "task3_nbr2 = '''SELECT card_no,\n",
    "    (EXTRACT(year FROM datetime)) AS Year,\n",
    "    (EXTRACT(month FROM datetime)) AS Month,\n",
    "    SUM(total) as Sales,\n",
    "    COUNT(DISTINCT(Date(datetime) || register_no || emp_no || trans_no)) AS Transactions,\n",
    "    SUM(CASE WHEN(trans_status = 'V' OR trans_status = 'R') THEN -1 ELSE 1 END) as Items\n",
    "    FROM `wedge-project-fall2021-92691.Wedge_FULL.transArchive*`\n",
    "\n",
    "    WHERE department != 0\n",
    "    AND department != 15\n",
    "    AND trans_status != 'M'\n",
    "    AND trans_status != 'C'\n",
    "    AND trans_status != 'J'\n",
    "    AND (trans_status = ''\n",
    "    OR trans_status = ' '\n",
    "    OR trans_status = 'V'\n",
    "    OR trans_status = 'R')\n",
    "    GROUP BY card_no, Year, Month\n",
    "    ORDER BY card_no, Year, Month'''\n",
    "\n",
    "owner_year_month = client.query(task3_nbr2,location=\"US\")"
   ]
  },
  {
   "cell_type": "markdown",
   "metadata": {},
   "source": [
    "### set up headers"
   ]
  },
  {
   "cell_type": "code",
   "execution_count": 9,
   "metadata": {},
   "outputs": [],
   "source": [
    "headers = [\"Owner_ID\",\"Year\",\"Month\",\"Sales\",\"Transactions\",\"Items\"]"
   ]
  },
  {
   "cell_type": "markdown",
   "metadata": {},
   "source": [
    "### Create text file of query results"
   ]
  },
  {
   "cell_type": "code",
   "execution_count": 10,
   "metadata": {},
   "outputs": [
    {
     "name": "stdout",
     "output_type": "stream",
     "text": [
      "58.27829319999999\n"
     ]
    }
   ],
   "source": [
    "from timeit import default_timer as timer # to establish access to 'process timer'\n",
    "start = timer()  # begin timer for this code block (will return #seconds elapsed)\n",
    "\n",
    "with open(\"Owner_year_month_trans.txt\", 'w') as outfile:\n",
    "    outfile.write(\",\".join(headers) + \"\\n\")\n",
    "    for row in owner_year_month:\n",
    "         outfile.write(\",\".join([str(item) for item in row])+ '\\n')\n",
    "            \n",
    "end = timer() # stops the code-block timer process after all iterations of all loops\n",
    "print(end - start)  # displays total seconds elapsed in this code block process            "
   ]
  },
  {
   "cell_type": "markdown",
   "metadata": {},
   "source": [
    "### Write to a table in SQLite"
   ]
  },
  {
   "cell_type": "code",
   "execution_count": 11,
   "metadata": {},
   "outputs": [
    {
     "name": "stdout",
     "output_type": "stream",
     "text": [
      "3.91191409999999\n"
     ]
    }
   ],
   "source": [
    "from timeit import default_timer as timer # to establish access to 'process timer'\n",
    "start = timer()  # begin timer for this code block (will return #seconds elapsed)\n",
    "\n",
    "db = sqlite3.connect('Wedge_Task3_2021.db')\n",
    "c = db.cursor()\n",
    "\n",
    "# input the results of the first query into the WedgeTask3 database as the table Owner_Trans_Yr_Month\n",
    "input_file2 = \"Owner_year_month_trans.txt\"\n",
    "#db = sqlite3.connect(\"WedgeTask3.db\") # connect to the new database\n",
    "#c = db.cursor()\n",
    "c.execute('''DROP TABLE IF EXISTS Owner_Trans_Yr_Month''') # remove the table if it already exists\n",
    "# create the table in the connected database and set up the schema\n",
    "c.execute('''CREATE TABLE Owner_Trans_Yr_Month (\n",
    "    Owner_ID INTEGER,\n",
    "    Year TIMESTAMP,\n",
    "    Month TIMESTAMP,\n",
    "    Sales REAL,\n",
    "    Transactions INTEGER,\n",
    "    Items INTEGER)''')\n",
    "# input the Sales by Date by Hour text data into the established table in the database\n",
    "with open(input_file2, 'r', encoding = 'Latin-1') as infile:\n",
    "    for idx,line in enumerate(infile.readlines()):\n",
    "        line = line.strip().split(',')\n",
    "        c.execute('''\n",
    "        INSERT INTO Owner_Trans_Yr_Month (Owner_ID, Year, Month, Sales, Transactions, Items)\n",
    "        VALUES (?,?,?,?,?,?)''', line) #make sure that the ? match up with the column labels for value insertion\n",
    "db.commit()\n",
    "\n",
    "end = timer() # stops the code-block timer process after all iterations of all loops\n",
    "print(end - start)  # displays total seconds elapsed in this code block process"
   ]
  },
  {
   "cell_type": "markdown",
   "metadata": {},
   "source": [
    "## Query 3:"
   ]
  },
  {
   "cell_type": "markdown",
   "metadata": {},
   "source": [
    "3.\tSales by product description by year by month: A file that has the following columns: upc, description, department number, department name, year, month, sales, transactions, and items."
   ]
  },
  {
   "cell_type": "code",
   "execution_count": 12,
   "metadata": {},
   "outputs": [],
   "source": [
    "\n",
    "task3_nbr3 = '''SELECT tr.department, dl.dept_name,\n",
    "    (EXTRACT(year FROM datetime)) AS Year,\n",
    "    (EXTRACT(month FROM datetime)) AS Month,\n",
    "    upc,\n",
    "    description,\n",
    "    tr.department AS dept_no,\n",
    "    SUM(total) as Sales,\n",
    "    COUNT(DISTINCT(Date(datetime) || register_no || emp_no || trans_no)) AS Transactions,\n",
    "    SUM(CASE WHEN(trans_status = 'V' OR trans_status = 'R') THEN -1 ELSE 1 END) as Items\n",
    "    FROM `wedge-project-fall2021-92691.Wedge_FULL.transArchive*` AS tr\n",
    "    \n",
    "    LEFT OUTER JOIN `wedge-project-fall2021-92691.Wedge_FULL.department_lookup` AS dl ON tr.department = dl.department\n",
    "    \n",
    "    WHERE card_no != 3\n",
    "    AND tr.department != 0\n",
    "    AND tr.department != 15\n",
    "    AND trans_status != 'M'\n",
    "    AND trans_status != 'C'\n",
    "    AND trans_status != 'J'\n",
    "    AND (trans_status = ''\n",
    "    OR trans_status = ' '\n",
    "    OR trans_status = 'V'\n",
    "    OR trans_status = 'R')\n",
    "    GROUP BY Year, Month, upc, description, dept_no, dl.dept_name\n",
    "    ORDER BY description, Year, Month DESC'''    \n",
    "    \n",
    "desc_summarized_trans = client.query(task3_nbr3,location=\"US\")"
   ]
  },
  {
   "cell_type": "markdown",
   "metadata": {},
   "source": [
    "### set up headers"
   ]
  },
  {
   "cell_type": "code",
   "execution_count": 13,
   "metadata": {},
   "outputs": [],
   "source": [
    "headers = [\"department\",\"dept_name\",\"Year\",\"Month\",\"upc\",\"description\",\"dept_no\",\"Sales\",\"Transactions\",\"Items\"]"
   ]
  },
  {
   "cell_type": "markdown",
   "metadata": {},
   "source": [
    "### Create text file of query results"
   ]
  },
  {
   "cell_type": "code",
   "execution_count": 14,
   "metadata": {},
   "outputs": [
    {
     "name": "stdout",
     "output_type": "stream",
     "text": [
      "108.7543053\n"
     ]
    }
   ],
   "source": [
    "from timeit import default_timer as timer # to establish access to 'process timer'\n",
    "start = timer()  # begin timer for this code block (will return #seconds elapsed)\n",
    "\n",
    "with open(\"monthly_trans_by_description.txt\", 'w') as outfile:\n",
    "    outfile.write(\",\".join(headers) + \"\\n\")\n",
    "    for row in desc_summarized_trans:\n",
    "         outfile.write(\",\".join([str(item) for item in row])+ '\\n')\n",
    "            \n",
    "end = timer() # stops the code-block timer process after all iterations of all loops\n",
    "print(end - start)  # displays total seconds elapsed in this code block process            "
   ]
  },
  {
   "cell_type": "markdown",
   "metadata": {},
   "source": [
    "### Write to a table in SQLite"
   ]
  },
  {
   "cell_type": "code",
   "execution_count": 15,
   "metadata": {},
   "outputs": [
    {
     "name": "stdout",
     "output_type": "stream",
     "text": [
      "6.892051199999997\n"
     ]
    }
   ],
   "source": [
    "from timeit import default_timer as timer # to establish access to 'process timer'\n",
    "start = timer()  # begin timer for this code block (will return #seconds elapsed)\n",
    "\n",
    "db = sqlite3.connect('Wedge_Task3_2021.db')\n",
    "c = db.cursor()\n",
    "\n",
    "# input the results of the first query into the WedgeTask3 database as the table Item_Description_by_Month\n",
    "input_file3 = \"monthly_trans_by_description.txt\"\n",
    "#db = sqlite3.connect(\"WedgeTask3.db\") # connect to the new database\n",
    "#c = db.cursor()\n",
    "c.execute('''DROP TABLE IF EXISTS Item_Description_by_Month''') # remove the table if it already exists\n",
    "# create the table in the connected database and set up the schema\n",
    "c.execute('''CREATE TABLE Item_Description_by_Month (\n",
    "    department FLOAT,\n",
    "    dept_name TEXT,\n",
    "    Year TIMESTAMP,\n",
    "    Month TIMESTAMP,\n",
    "    upc STRING,\n",
    "    description STRING,\n",
    "    dept_no INTEGER,\n",
    "    Sales REAL,\n",
    "    Transactions INTEGER,\n",
    "    Items INTEGER)''')\n",
    "# input the Sales by Date by Hour text data into the established table in the database\n",
    "with open(input_file3, 'r', encoding = 'Latin-1') as infile:\n",
    "    for idx,line in enumerate(infile.readlines()):\n",
    "        line = line.strip().split(',')\n",
    "        c.execute('''\n",
    "        INSERT INTO Item_Description_by_Month (department, dept_name, Year, Month, upc, description, dept_no, Sales, Transactions, Items)\n",
    "        VALUES (?,?,?,?,?,?,?,?,?,?)''', line) #make sure that the ? match up with the column labels for value insertion\n",
    "db.commit()\n",
    "\n",
    "end = timer() # stops the code-block timer process after all iterations of all loops\n",
    "print(end - start)  # displays total seconds elapsed in this code block process"
   ]
  },
  {
   "cell_type": "code",
   "execution_count": null,
   "metadata": {},
   "outputs": [],
   "source": []
  }
 ],
 "metadata": {
  "kernelspec": {
   "display_name": "Python 3",
   "language": "python",
   "name": "python3"
  },
  "language_info": {
   "codemirror_mode": {
    "name": "ipython",
    "version": 3
   },
   "file_extension": ".py",
   "mimetype": "text/x-python",
   "name": "python",
   "nbconvert_exporter": "python",
   "pygments_lexer": "ipython3",
   "version": "3.7.3"
  }
 },
 "nbformat": 4,
 "nbformat_minor": 4
}
