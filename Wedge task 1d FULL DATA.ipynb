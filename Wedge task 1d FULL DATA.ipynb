{
 "cells": [
  {
   "cell_type": "markdown",
   "metadata": {},
   "source": [
    "## Task 1 of Wedge project\n"
   ]
  },
  {
   "cell_type": "code",
   "execution_count": 1,
   "metadata": {},
   "outputs": [],
   "source": [
    "# Do our imports for the code\n",
    "import os\n",
    "import csv\n",
    "from google.cloud import bigquery\n",
    "from google.oauth2 import service_account\n",
    "\n",
    "# this creates a path to where the source (large, cleaned) files reside locally\n",
    "path_to_files = \"C:\\\\Users\\\\Craig\\\\Documents\\\\000000000 UofM fall 2021\\\\BMIS670 Chandler AppliedDataAnalytics\\\\Wedge project\\\\clean_full\\\\\"\n",
    "clean_wedge_files = os.listdir(path_to_files) # assigning  to object 'clean_wedge_files'\n"
   ]
  },
  {
   "cell_type": "code",
   "execution_count": 2,
   "metadata": {},
   "outputs": [
    {
     "data": {
      "text/plain": [
       "['transArchive_201204_201206_clean.csv',\n",
       " 'transArchive_201204_201206_inactive_clean.csv',\n",
       " 'transArchive_201207_201209_clean.csv',\n",
       " 'transArchive_201207_201209_inactive_clean.csv',\n",
       " 'transArchive_201210_201212_clean.csv',\n",
       " 'transArchive_201210_201212_inactive_clean.csv',\n",
       " 'transArchive_201301_201303_clean.csv',\n",
       " 'transArchive_201301_201303_inactive_clean.csv',\n",
       " 'transArchive_201304_201306_clean.csv',\n",
       " 'transArchive_201304_201306_inactive_clean.csv',\n",
       " 'transArchive_201307_201309_clean.csv',\n",
       " 'transArchive_201307_201309_inactive_clean.csv',\n",
       " 'transArchive_201310_201312_clean.csv',\n",
       " 'transArchive_201310_201312_inactive_clean.csv',\n",
       " 'transArchive_201401_201403_clean.csv',\n",
       " 'transArchive_201401_201403_inactive_clean.csv',\n",
       " 'transArchive_201404_201406_clean.csv',\n",
       " 'transArchive_201404_201406_inactive_clean.csv',\n",
       " 'transArchive_201407_201409_clean.csv',\n",
       " 'transArchive_201407_201409_inactive_clean.csv',\n",
       " 'transArchive_201410_201412_clean.csv',\n",
       " 'transArchive_201410_201412_inactive_clean.csv',\n",
       " 'transArchive_201501_201503_clean.csv',\n",
       " 'transArchive_201504_201506_clean.csv',\n",
       " 'transArchive_201507_201509_clean.csv',\n",
       " 'transArchive_201510_clean.csv',\n",
       " 'transArchive_201511_clean.csv',\n",
       " 'transArchive_201512_clean.csv',\n",
       " 'transArchive_201601_clean.csv',\n",
       " 'transArchive_201602_clean.csv',\n",
       " 'transArchive_201603_clean.csv',\n",
       " 'transArchive_201604_clean.csv',\n",
       " 'transArchive_201605_clean.csv',\n",
       " 'transArchive_201606_clean.csv',\n",
       " 'transArchive_201607_clean.csv',\n",
       " 'transArchive_201608_clean.csv',\n",
       " 'transArchive_201609_clean.csv',\n",
       " 'transArchive_201610_clean.csv',\n",
       " 'transArchive_201611_clean.csv',\n",
       " 'transArchive_201612_clean.csv',\n",
       " 'transArchive_201701_clean.csv']"
      ]
     },
     "execution_count": 2,
     "metadata": {},
     "output_type": "execute_result"
    }
   ],
   "source": [
    "clean_wedge_files"
   ]
  },
  {
   "cell_type": "code",
   "execution_count": 3,
   "metadata": {},
   "outputs": [],
   "source": [
    "# Identify the path to the JSON that links us with Google Big Query (GBQ) project, dataset \n",
    "service_path = \"C:\\\\Users\\\\Craig\\\\Documents\\\\000000000 UofM fall 2021\\\\BMIS670 Chandler AppliedDataAnalytics\\\\Wedge project\\\\\"\n",
    "service_file = 'wedge-project-fall2021-92691-f3182a53adb6.json' # this is your authentication information  \n",
    "gbq_proj_id = 'wedge-project-fall2021-92691'  # change this to your project_id\n",
    "gbq_dataset_id = 'Wedge_FULL' # and change this to your data set ID\n",
    "#gbq_dataset_id = 'wedge_clean_full' # and change this to your data set ID\n",
    "private_key = service_path + service_file"
   ]
  },
  {
   "cell_type": "code",
   "execution_count": 4,
   "metadata": {},
   "outputs": [],
   "source": [
    "# Get your credentials\n",
    "credentials = service_account.Credentials.from_service_account_file(service_path + service_file)\n",
    "\n",
    "# And create a client to talk to GBQ\n",
    "client = bigquery.Client(credentials = credentials, project=gbq_proj_id)"
   ]
  },
  {
   "cell_type": "markdown",
   "metadata": {},
   "source": [
    "At this point, our `client` variable holds a connection to the project. This is client is similar to a file handle--it allows you to \"talk\" to the project.  \n",
    "\n",
    "---\n",
    "\n",
    "## Creating a Table\n",
    "\n",
    "Let's create a couple of tables based on our Wedge table schema. First, put in a name for your table."
   ]
  },
  {
   "cell_type": "code",
   "execution_count": 5,
   "metadata": {},
   "outputs": [],
   "source": [
    "my_table = \"wedge-project-fall2021-92691-f3182a53adb6\"\n",
    "\n",
    "table_full_name = \".\".join([gbq_proj_id,gbq_dataset_id,my_table])"
   ]
  },
  {
   "cell_type": "code",
   "execution_count": 6,
   "metadata": {},
   "outputs": [
    {
     "data": {
      "text/plain": [
       "'wedge-project-fall2021-92691.Wedge_FULL.wedge-project-fall2021-92691-f3182a53adb6'"
      ]
     },
     "execution_count": 6,
     "metadata": {},
     "output_type": "execute_result"
    }
   ],
   "source": [
    "table_full_name"
   ]
  },
  {
   "cell_type": "markdown",
   "metadata": {},
   "source": [
    "Determine if our table exists, and if not... create it (see stack overflow's https://stackoverflow.com/questions/28731102/bigquery-check-if-table-already-exists)."
   ]
  },
  {
   "cell_type": "code",
   "execution_count": 7,
   "metadata": {},
   "outputs": [],
   "source": [
    "def tbl_exists(client, table_ref):\n",
    "    from google.cloud.exceptions import NotFound\n",
    "    try:\n",
    "        client.get_table(table_ref)\n",
    "        return True\n",
    "    except NotFound:\n",
    "        return False"
   ]
  },
  {
   "cell_type": "code",
   "execution_count": 8,
   "metadata": {},
   "outputs": [],
   "source": [
    "if not tbl_exists(client, table_full_name) :\n",
    "    table_ref = client.create_table(\n",
    "        table = table_full_name\n",
    "    )\n",
    "else :\n",
    "    table_ref = client.get_table(table_full_name)"
   ]
  },
  {
   "cell_type": "markdown",
   "metadata": {},
   "source": [
    "At this point our table is empty and doesn't even have a schema. "
   ]
  },
  {
   "cell_type": "code",
   "execution_count": 9,
   "metadata": {},
   "outputs": [
    {
     "name": "stdout",
     "output_type": "stream",
     "text": [
      "Table wedge-project-fall2021-92691-f3182a53adb6 contains 0 columns\n"
     ]
    }
   ],
   "source": [
    "table = client.get_table(table_ref)\n",
    "print(\"Table {} contains {} columns\".format(table_ref.table_id,len(table.schema)))"
   ]
  },
  {
   "cell_type": "code",
   "execution_count": 10,
   "metadata": {},
   "outputs": [],
   "source": [
    "job_config = bigquery.LoadJobConfig()\n",
    "job_config.write_disposition = bigquery.WriteDisposition.WRITE_APPEND\n",
    "job_config.schema_update_options = [\n",
    "    bigquery.SchemaUpdateOption.ALLOW_FIELD_ADDITION # This allows us to modify the table. \n",
    "]"
   ]
  },
  {
   "cell_type": "markdown",
   "metadata": {},
   "source": [
    "### Create Schema"
   ]
  },
  {
   "cell_type": "markdown",
   "metadata": {},
   "source": [
    "This next cell has a massive set of SchemaField additions. I built this programmatically, so that you can just copy and paste it when you need it. But it's worth reading it *and* comparing it to the `wedge_transaction_schema.json` to see if it makes sense. "
   ]
  },
  {
   "cell_type": "code",
   "execution_count": 11,
   "metadata": {},
   "outputs": [],
   "source": [
    "job_config.schema = [\n",
    "    bigquery.SchemaField(\"datetime\", \"TIMESTAMP\", mode=\"NULLABLE\"),\n",
    "    bigquery.SchemaField(\"register_no\", \"FLOAT\", mode=\"NULLABLE\"),\n",
    "    bigquery.SchemaField(\"emp_no\", \"FLOAT\", mode=\"NULLABLE\"),\n",
    "    bigquery.SchemaField(\"trans_no\", \"FLOAT\", mode=\"NULLABLE\"),\n",
    "    bigquery.SchemaField(\"upc\", \"STRING\", mode=\"NULLABLE\"),\n",
    "    bigquery.SchemaField(\"description\", \"STRING\", mode=\"NULLABLE\"),\n",
    "    bigquery.SchemaField(\"trans_type\", \"STRING\", mode=\"NULLABLE\"),\n",
    "    bigquery.SchemaField(\"trans_subtype\", \"STRING\", mode=\"NULLABLE\"),\n",
    "    bigquery.SchemaField(\"trans_status\", \"STRING\", mode=\"NULLABLE\"),\n",
    "    bigquery.SchemaField(\"department\", \"FLOAT\", mode=\"NULLABLE\"),\n",
    "    bigquery.SchemaField(\"quantity\", \"FLOAT\", mode=\"NULLABLE\"),\n",
    "    bigquery.SchemaField(\"Scale\", \"FLOAT\", mode=\"NULLABLE\"),\n",
    "    bigquery.SchemaField(\"cost\", \"FLOAT\", mode=\"NULLABLE\"),\n",
    "    bigquery.SchemaField(\"unitPrice\", \"FLOAT\", mode=\"NULLABLE\"),\n",
    "    bigquery.SchemaField(\"total\", \"FLOAT\", mode=\"NULLABLE\"),\n",
    "    bigquery.SchemaField(\"regPrice\", \"FLOAT\", mode=\"NULLABLE\"),\n",
    "    bigquery.SchemaField(\"altPrice\", \"FLOAT\", mode=\"NULLABLE\"),\n",
    "    bigquery.SchemaField(\"tax\", \"FLOAT\", mode=\"NULLABLE\"),\n",
    "    bigquery.SchemaField(\"taxexempt\", \"FLOAT\", mode=\"NULLABLE\"),\n",
    "    bigquery.SchemaField(\"foodstamp\", \"FLOAT\", mode=\"NULLABLE\"),\n",
    "    bigquery.SchemaField(\"wicable\", \"FLOAT\", mode=\"NULLABLE\"),\n",
    "    bigquery.SchemaField(\"discount\", \"FLOAT\", mode=\"NULLABLE\"),\n",
    "    bigquery.SchemaField(\"memDiscount\", \"FLOAT\", mode=\"NULLABLE\"),\n",
    "    bigquery.SchemaField(\"discountable\", \"FLOAT\", mode=\"NULLABLE\"),\n",
    "    bigquery.SchemaField(\"discounttype\", \"FLOAT\", mode=\"NULLABLE\"),\n",
    "    bigquery.SchemaField(\"voided\", \"FLOAT\", mode=\"NULLABLE\"),\n",
    "    bigquery.SchemaField(\"percentDiscount\", \"FLOAT\", mode=\"NULLABLE\"),\n",
    "    bigquery.SchemaField(\"ItemQtty\", \"FLOAT\", mode=\"NULLABLE\"),\n",
    "    bigquery.SchemaField(\"volDiscType\", \"FLOAT\", mode=\"NULLABLE\"),\n",
    "    bigquery.SchemaField(\"volume\", \"FLOAT\", mode=\"NULLABLE\"),\n",
    "    bigquery.SchemaField(\"VolSpecial\", \"FLOAT\", mode=\"NULLABLE\"),\n",
    "    bigquery.SchemaField(\"mixMatch\", \"FLOAT\", mode=\"NULLABLE\"),\n",
    "    bigquery.SchemaField(\"matched\", \"FLOAT\", mode=\"NULLABLE\"),\n",
    "    bigquery.SchemaField(\"memType\", \"BOOLEAN\", mode=\"NULLABLE\"),\n",
    "    bigquery.SchemaField(\"staff\", \"BOOLEAN\", mode=\"NULLABLE\"),\n",
    "    bigquery.SchemaField(\"numflag\", \"FLOAT\", mode=\"NULLABLE\"),\n",
    "    bigquery.SchemaField(\"itemstatus\", \"FLOAT\", mode=\"NULLABLE\"),\n",
    "    bigquery.SchemaField(\"tenderstatus\", \"FLOAT\", mode=\"NULLABLE\"),\n",
    "    bigquery.SchemaField(\"charflag\", \"STRING\", mode=\"NULLABLE\"),\n",
    "    bigquery.SchemaField(\"varflag\", \"FLOAT\", mode=\"NULLABLE\"),\n",
    "    bigquery.SchemaField(\"batchHeaderID\", \"BOOLEAN\", mode=\"NULLABLE\"),\n",
    "    bigquery.SchemaField(\"local\", \"FLOAT\", mode=\"NULLABLE\"),\n",
    "    bigquery.SchemaField(\"organic\", \"FLOAT\", mode=\"NULLABLE\"),\n",
    "    bigquery.SchemaField(\"display\", \"BOOLEAN\", mode=\"NULLABLE\"),\n",
    "    bigquery.SchemaField(\"receipt\", \"FLOAT\", mode=\"NULLABLE\"),\n",
    "    bigquery.SchemaField(\"card_no\", \"FLOAT\", mode=\"NULLABLE\"),\n",
    "    bigquery.SchemaField(\"store\", \"FLOAT\", mode=\"NULLABLE\"),\n",
    "    bigquery.SchemaField(\"branch\", \"FLOAT\", mode=\"NULLABLE\"),\n",
    "    bigquery.SchemaField(\"match_id\", \"FLOAT\", mode=\"NULLABLE\"),\n",
    "    bigquery.SchemaField(\"trans_id\", \"FLOAT\", mode=\"NULLABLE\"),\n",
    "]\n",
    "job_config.source_format = bigquery.SourceFormat.CSV\n",
    "job_config.skip_leading_rows = 0"
   ]
  },
  {
   "cell_type": "markdown",
   "metadata": {},
   "source": [
    "## Upload the source data to GBQ"
   ]
  },
  {
   "cell_type": "code",
   "execution_count": 12,
   "metadata": {},
   "outputs": [
    {
     "name": "stdout",
     "output_type": "stream",
     "text": [
      "Table transArchive_201204_201206_clean now contains 0 columns.\n",
      "Loaded 3083546 rows into wedge_example:transArchive_201204_201206_clean.\n",
      "Table transArchive_201204_201206_inactive_clean now contains 0 columns.\n",
      "Loaded 237990 rows into wedge_example:transArchive_201204_201206_inactive_clean.\n",
      "Table transArchive_201207_201209_clean now contains 0 columns.\n",
      "Loaded 2925608 rows into wedge_example:transArchive_201207_201209_clean.\n",
      "Table transArchive_201207_201209_inactive_clean now contains 0 columns.\n",
      "Loaded 190877 rows into wedge_example:transArchive_201207_201209_inactive_clean.\n",
      "Table transArchive_201210_201212_clean now contains 0 columns.\n",
      "Loaded 2893637 rows into wedge_example:transArchive_201210_201212_clean.\n",
      "Table transArchive_201210_201212_inactive_clean now contains 0 columns.\n",
      "Loaded 162988 rows into wedge_example:transArchive_201210_201212_inactive_clean.\n",
      "Table transArchive_201301_201303_clean now contains 0 columns.\n",
      "Loaded 2903987 rows into wedge_example:transArchive_201301_201303_clean.\n",
      "Table transArchive_201301_201303_inactive_clean now contains 0 columns.\n",
      "Loaded 148623 rows into wedge_example:transArchive_201301_201303_inactive_clean.\n",
      "Table transArchive_201304_201306_clean now contains 0 columns.\n",
      "Loaded 3025434 rows into wedge_example:transArchive_201304_201306_clean.\n",
      "Table transArchive_201304_201306_inactive_clean now contains 0 columns.\n",
      "Loaded 137628 rows into wedge_example:transArchive_201304_201306_inactive_clean.\n",
      "Table transArchive_201307_201309_clean now contains 0 columns.\n",
      "Loaded 2997135 rows into wedge_example:transArchive_201307_201309_clean.\n",
      "Table transArchive_201307_201309_inactive_clean now contains 0 columns.\n",
      "Loaded 104468 rows into wedge_example:transArchive_201307_201309_inactive_clean.\n",
      "Table transArchive_201310_201312_clean now contains 0 columns.\n",
      "Loaded 2922057 rows into wedge_example:transArchive_201310_201312_clean.\n",
      "Table transArchive_201310_201312_inactive_clean now contains 0 columns.\n",
      "Loaded 79156 rows into wedge_example:transArchive_201310_201312_inactive_clean.\n",
      "Table transArchive_201401_201403_clean now contains 0 columns.\n",
      "Loaded 2916194 rows into wedge_example:transArchive_201401_201403_clean.\n",
      "Table transArchive_201401_201403_inactive_clean now contains 0 columns.\n",
      "Loaded 52614 rows into wedge_example:transArchive_201401_201403_inactive_clean.\n",
      "Table transArchive_201404_201406_clean now contains 0 columns.\n",
      "Loaded 3154267 rows into wedge_example:transArchive_201404_201406_clean.\n",
      "Table transArchive_201404_201406_inactive_clean now contains 0 columns.\n",
      "Loaded 49069 rows into wedge_example:transArchive_201404_201406_inactive_clean.\n",
      "Table transArchive_201407_201409_clean now contains 0 columns.\n",
      "Loaded 3030409 rows into wedge_example:transArchive_201407_201409_clean.\n",
      "Table transArchive_201407_201409_inactive_clean now contains 0 columns.\n",
      "Loaded 28323 rows into wedge_example:transArchive_201407_201409_inactive_clean.\n",
      "Table transArchive_201410_201412_clean now contains 0 columns.\n",
      "Loaded 2931416 rows into wedge_example:transArchive_201410_201412_clean.\n",
      "Table transArchive_201410_201412_inactive_clean now contains 0 columns.\n",
      "Loaded 7964 rows into wedge_example:transArchive_201410_201412_inactive_clean.\n",
      "Table transArchive_201501_201503_clean now contains 0 columns.\n",
      "Loaded 3041129 rows into wedge_example:transArchive_201501_201503_clean.\n",
      "Table transArchive_201504_201506_clean now contains 0 columns.\n",
      "Loaded 3274964 rows into wedge_example:transArchive_201504_201506_clean.\n",
      "Table transArchive_201507_201509_clean now contains 0 columns.\n",
      "Loaded 3124699 rows into wedge_example:transArchive_201507_201509_clean.\n",
      "Table transArchive_201510_clean now contains 0 columns.\n",
      "Loaded 1006055 rows into wedge_example:transArchive_201510_clean.\n",
      "Table transArchive_201511_clean now contains 0 columns.\n",
      "Loaded 993744 rows into wedge_example:transArchive_201511_clean.\n",
      "Table transArchive_201512_clean now contains 0 columns.\n",
      "Loaded 960017 rows into wedge_example:transArchive_201512_clean.\n",
      "Table transArchive_201601_clean now contains 0 columns.\n",
      "Loaded 979408 rows into wedge_example:transArchive_201601_clean.\n",
      "Table transArchive_201602_clean now contains 0 columns.\n",
      "Loaded 874853 rows into wedge_example:transArchive_201602_clean.\n",
      "Table transArchive_201603_clean now contains 0 columns.\n",
      "Loaded 964635 rows into wedge_example:transArchive_201603_clean.\n",
      "Table transArchive_201604_clean now contains 0 columns.\n",
      "Loaded 930359 rows into wedge_example:transArchive_201604_clean.\n",
      "Table transArchive_201605_clean now contains 0 columns.\n",
      "Loaded 938769 rows into wedge_example:transArchive_201605_clean.\n",
      "Table transArchive_201606_clean now contains 0 columns.\n",
      "Loaded 862329 rows into wedge_example:transArchive_201606_clean.\n",
      "Table transArchive_201607_clean now contains 0 columns.\n",
      "Loaded 872161 rows into wedge_example:transArchive_201607_clean.\n",
      "Table transArchive_201608_clean now contains 0 columns.\n",
      "Loaded 858168 rows into wedge_example:transArchive_201608_clean.\n",
      "Table transArchive_201609_clean now contains 0 columns.\n",
      "Loaded 861248 rows into wedge_example:transArchive_201609_clean.\n",
      "Table transArchive_201610_clean now contains 0 columns.\n",
      "Loaded 905092 rows into wedge_example:transArchive_201610_clean.\n",
      "Table transArchive_201611_clean now contains 0 columns.\n",
      "Loaded 925314 rows into wedge_example:transArchive_201611_clean.\n",
      "Table transArchive_201612_clean now contains 0 columns.\n",
      "Loaded 915707 rows into wedge_example:transArchive_201612_clean.\n",
      "Table transArchive_201701_clean now contains 0 columns.\n",
      "Loaded 936741 rows into wedge_example:transArchive_201701_clean.\n",
      "15243.3518604\n"
     ]
    }
   ],
   "source": [
    "from timeit import default_timer as timer # to establish access to 'process timer'\n",
    "start = timer()  # begin timer for this code block (will return #seconds elapsed)\n",
    "\n",
    "for file in clean_wedge_files:\n",
    "    my_table, junk = file.split(\".\")\n",
    "    table_full_name = \".\".join([gbq_proj_id,gbq_dataset_id,my_table])\n",
    "    if not tbl_exists(client, table_full_name) :\n",
    "        table_ref =client.create_table(\n",
    "            table = table_full_name\n",
    "        )\n",
    "    else :\n",
    "        table_ref = client.get_table(table_full_name)\n",
    "    table = client.get_table(table_ref)\n",
    "    print(\"Table {} now contains {} columns.\".format(table_ref.table_id, len(table.schema)))\n",
    "\n",
    "    with open(path_to_files + file, \"rb\") as source_file:\n",
    "        job = client.load_table_from_file(\n",
    "            source_file,\n",
    "            table_ref,\n",
    "            location=\"US\",  # Must match the destination dataset location.\n",
    "            job_config=job_config,\n",
    "        )  # API request\n",
    "\n",
    "    job.result()  # Waits for table load to complete.\n",
    "    print(\n",
    "        \"Loaded {} rows into {}:{}.\".format(\n",
    "            job.output_rows, 'wedge_example', table_ref.table_id\n",
    "        )\n",
    "    ) \n",
    "\n",
    "end = timer() # stops the code-block timer process after all iterations of all loops\n",
    "print(end - start)  # displays total seconds elapsed in this code block process    "
   ]
  },
  {
   "cell_type": "code",
   "execution_count": 13,
   "metadata": {},
   "outputs": [
    {
     "name": "stdout",
     "output_type": "stream",
     "text": [
      "Table transArchive_201701_clean now contains 50 columns.\n"
     ]
    }
   ],
   "source": [
    "\n",
    "# Checks the updated length of the schema\n",
    "table = client.get_table(table)\n",
    "print(\"Table {} now contains {} columns.\".format(table_ref.table_id, len(table.schema)))"
   ]
  }
 ],
 "metadata": {
  "kernelspec": {
   "display_name": "Python 3",
   "language": "python",
   "name": "python3"
  },
  "language_info": {
   "codemirror_mode": {
    "name": "ipython",
    "version": 3
   },
   "file_extension": ".py",
   "mimetype": "text/x-python",
   "name": "python",
   "nbconvert_exporter": "python",
   "pygments_lexer": "ipython3",
   "version": "3.7.3"
  }
 },
 "nbformat": 4,
 "nbformat_minor": 2
}
